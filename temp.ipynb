{
 "cells": [
  {
   "cell_type": "code",
   "execution_count": 1,
   "metadata": {},
   "outputs": [],
   "source": [
    "import numpy as np"
   ]
  },
  {
   "cell_type": "code",
   "execution_count": 3,
   "metadata": {},
   "outputs": [
    {
     "data": {
      "text/plain": [
       "array([0, 1, 2, 3, 4, 5])"
      ]
     },
     "execution_count": 3,
     "metadata": {},
     "output_type": "execute_result"
    }
   ],
   "source": [
    "frames = np.arange(6)\n",
    "frames"
   ]
  },
  {
   "cell_type": "code",
   "execution_count": 66,
   "metadata": {},
   "outputs": [],
   "source": [
    "frames = np.arange(12)\n",
    "comb = set()\n",
    "for i in range(100000):\n",
    "    this_max_jump = min(len(frames), len(frames) // 6)\n",
    "    start_idx = np.random.randint(0, len(frames) - this_max_jump + 1)\n",
    "\n",
    "    f1_idx = start_idx + np.random.randint(0, this_max_jump + 1) + 1\n",
    "    f1_idx = min(f1_idx, len(frames) - this_max_jump, len(frames) - 1)\n",
    "\n",
    "    f2_idx = f1_idx + np.random.randint(this_max_jump + 1) + 1\n",
    "    f2_idx = min(f2_idx, len(frames) - this_max_jump // 2, len(frames) - 1)\n",
    "\n",
    "    frames_idx = [start_idx, f1_idx, f2_idx]\n",
    "    comb.add(tuple(frames_idx))\n"
   ]
  },
  {
   "cell_type": "code",
   "execution_count": 67,
   "metadata": {},
   "outputs": [
    {
     "data": {
      "text/plain": [
       "[(0, 1, 2),\n",
       " (0, 1, 3),\n",
       " (0, 1, 4),\n",
       " (0, 2, 3),\n",
       " (0, 2, 4),\n",
       " (0, 2, 5),\n",
       " (0, 3, 4),\n",
       " (0, 3, 5),\n",
       " (0, 3, 6),\n",
       " (1, 2, 3),\n",
       " (1, 2, 4),\n",
       " (1, 2, 5),\n",
       " (1, 3, 4),\n",
       " (1, 3, 5),\n",
       " (1, 3, 6),\n",
       " (1, 4, 5),\n",
       " (1, 4, 6),\n",
       " (1, 4, 7),\n",
       " (2, 3, 4),\n",
       " (2, 3, 5),\n",
       " (2, 3, 6),\n",
       " (2, 4, 5),\n",
       " (2, 4, 6),\n",
       " (2, 4, 7),\n",
       " (2, 5, 6),\n",
       " (2, 5, 7),\n",
       " (2, 5, 8),\n",
       " (3, 4, 5),\n",
       " (3, 4, 6),\n",
       " (3, 4, 7),\n",
       " (3, 5, 6),\n",
       " (3, 5, 7),\n",
       " (3, 5, 8),\n",
       " (3, 6, 7),\n",
       " (3, 6, 8),\n",
       " (3, 6, 9),\n",
       " (4, 5, 6),\n",
       " (4, 5, 7),\n",
       " (4, 5, 8),\n",
       " (4, 6, 7),\n",
       " (4, 6, 8),\n",
       " (4, 6, 9),\n",
       " (4, 7, 8),\n",
       " (4, 7, 9),\n",
       " (4, 7, 10),\n",
       " (5, 6, 7),\n",
       " (5, 6, 8),\n",
       " (5, 6, 9),\n",
       " (5, 7, 8),\n",
       " (5, 7, 9),\n",
       " (5, 7, 10),\n",
       " (5, 8, 9),\n",
       " (5, 8, 10),\n",
       " (5, 8, 11),\n",
       " (6, 7, 8),\n",
       " (6, 7, 9),\n",
       " (6, 7, 10),\n",
       " (6, 8, 9),\n",
       " (6, 8, 10),\n",
       " (6, 8, 11),\n",
       " (6, 9, 10),\n",
       " (6, 9, 11),\n",
       " (7, 8, 9),\n",
       " (7, 8, 10),\n",
       " (7, 8, 11),\n",
       " (7, 9, 10),\n",
       " (7, 9, 11),\n",
       " (7, 10, 11),\n",
       " (8, 9, 10),\n",
       " (8, 9, 11),\n",
       " (8, 10, 11),\n",
       " (9, 10, 11),\n",
       " (10, 10, 11)]"
      ]
     },
     "execution_count": 67,
     "metadata": {},
     "output_type": "execute_result"
    }
   ],
   "source": [
    "sorted(comb)"
   ]
  },
  {
   "cell_type": "code",
   "execution_count": 39,
   "metadata": {},
   "outputs": [
    {
     "data": {
      "text/plain": [
       "{(0, 1, 2), (1, 2, 3), (2, 3, 4), (3, 4, 5), (4, 5, 5), (5, 5, 5), (6, 5, 5)}"
      ]
     },
     "execution_count": 39,
     "metadata": {},
     "output_type": "execute_result"
    }
   ],
   "source": [
    "comb"
   ]
  },
  {
   "cell_type": "code",
   "execution_count": 64,
   "metadata": {},
   "outputs": [],
   "source": [
    "res = set()\n",
    "for i in range(100000):\n",
    "    start_idx = np.random.randint(0, len(frames) - 1)\n",
    "    f1_idx = start_idx + np.random.randint(0, 2)\n",
    "    f1_idx = min(f1_idx, len(frames) - 1)\n",
    "    f2_idx = f1_idx + np.random.randint(0, 2) if f1_idx != start_idx else f1_idx + 1\n",
    "    f2_idx = min(f2_idx, len(frames) - 1)\n",
    "    res.add((start_idx, f1_idx, f2_idx))"
   ]
  },
  {
   "cell_type": "code",
   "execution_count": 65,
   "metadata": {},
   "outputs": [
    {
     "data": {
      "text/plain": [
       "{(0, 0, 1),\n",
       " (0, 1, 1),\n",
       " (0, 1, 2),\n",
       " (1, 1, 2),\n",
       " (1, 2, 2),\n",
       " (1, 2, 3),\n",
       " (2, 2, 3),\n",
       " (2, 3, 3),\n",
       " (2, 3, 4),\n",
       " (3, 3, 4),\n",
       " (3, 4, 4),\n",
       " (3, 4, 5),\n",
       " (4, 4, 5),\n",
       " (4, 5, 5)}"
      ]
     },
     "execution_count": 65,
     "metadata": {},
     "output_type": "execute_result"
    }
   ],
   "source": [
    "res"
   ]
  },
  {
   "cell_type": "code",
   "execution_count": null,
   "metadata": {},
   "outputs": [],
   "source": []
  }
 ],
 "metadata": {
  "kernelspec": {
   "display_name": "Python 3",
   "language": "python",
   "name": "python3"
  },
  "language_info": {
   "codemirror_mode": {
    "name": "ipython",
    "version": 3
   },
   "file_extension": ".py",
   "mimetype": "text/x-python",
   "name": "python",
   "nbconvert_exporter": "python",
   "pygments_lexer": "ipython3",
   "version": "3.9.16"
  },
  "orig_nbformat": 4
 },
 "nbformat": 4,
 "nbformat_minor": 2
}
